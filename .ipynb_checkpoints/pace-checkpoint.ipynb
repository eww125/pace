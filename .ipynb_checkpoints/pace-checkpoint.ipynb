{
 "cells": [
  {
   "cell_type": "code",
   "execution_count": 1,
   "metadata": {},
   "outputs": [
    {
     "name": "stderr",
     "output_type": "stream",
     "text": [
      "/Users/evanwappel/.virtualenv/lib/python3.8/site-packages/IPython/core/interactiveshell.py:3062: DtypeWarning: Columns (3,5,6,20,37,38,44,65,66,67,70,79,80,81,82,83,84,97,98,99,103,104,105,109,110,111,112,113,114,115,116,117,120,123,124,125,126,130,131,132,133,134,135,139,145,146,147,151,152,153,154,155,156,166,167,172,174,178,179,180,184,185,186,187,188,189,190,191,192,193,194,195,196,197,198,199,200,201,202,203,204,205,206,207,208,209,210,211,212,213,214,215,216,217,218,219,226,227,228,229,230,231,247,248,249,256,257,258,259,260,261,262,263,264,265,266,267,268,269,270,271,272,273,277,278,279,280,281,282,283,286,288,289,291,292,293,294,295,296,297,313,314,315,316,317,318,319,320,321,324,337,338,339,343,344,345,346,347,348,355,356,357,358,359,360,373,374,375,376,377,378,379,380,381,382,383,384,385,386,387,388,389,390,391,392,393,394,395,396,397,398,399,400,401,402,403,404,405,406,407,408,409,410,411,412,413,414,415,416,417,418,419,420,421,422,423,424,425,426,427,428,429,430,431,432,433,434,435,436,437,438,445,446,447,454,455,456,457,458,459,460,461,462,472,473,474,475,477,502,503,504,505,506,507,508,520,521,522,526,527,528,529,530,531,532,533,534,535,537,544,546,550,551,552,553,554,555,556,557,558,564,574,575,576,580,581,582,586,587,588,595,596,597,598,599,600,601,602,603,607,608,609,613,614,615,619,620,621,625,626,627,628,629,630,634,635,636,640,641,652,654,655,657,658,659,660,661,662,663,670,671,672,673,674,675,676,677,678,682,683,684,688,689,690,694,695,696,703,705,706,707,708,715,716,717,718,719,720,727,728,729,730,731,732,736,737,738,754,755,756,763,764,765,766,767,768,771,790,791,792,796,797,798,817,818,819,823,824,825,835,836,837,838,839,840,841,842,843,844,845,846,853,856,857,859,860,861,867,870,883,884,885,886,887,888,904,905,906,909,916,917,918,919,920,921,922,923,924,925,926,927,928,929,930,931,932,933,934,935,936,937,938,939,940,941,942,943,944,955,956,957,958,959,960,961,962,963,964,965,966,967,968,969,973,974,975,987,988,989,990,997,998,999,1000,1001,1002,1003,1004,1005,1006,1007,1008,1009,1010,1011,1012,1013,1014,1015,1016,1017,1018,1019,1020,1022,1024,1025,1026,1027,1028,1029,1031,1043,1046,1048,1049,1050,1054,1055,1056,1060,1061,1062,1064,1070,1072,1073,1074,1075,1076,1077,1078,1079,1080,1087,1088,1089,1091,1094,1097,1109,1111,1112,1113,1114,1115,1116,1117,1118,1119,1120,1121,1122,1124,1126,1127,1128,1129,1130,1131,1135,1137,1139,1147,1148,1149,1153,1154,1155,1159,1160,1162,1163,1165,1166,1167,1171,1172,1173,1174,1175,1176,1177,1178,1186,1187,1189,1190,1197) have mixed types.Specify dtype option on import or set low_memory=False.\n",
      "  has_raised = await self.run_ast_nodes(code_ast.body, cell_name,\n"
     ]
    },
    {
     "data": {
      "text/html": [
       "<div>\n",
       "<style scoped>\n",
       "    .dataframe tbody tr th:only-of-type {\n",
       "        vertical-align: middle;\n",
       "    }\n",
       "\n",
       "    .dataframe tbody tr th {\n",
       "        vertical-align: top;\n",
       "    }\n",
       "\n",
       "    .dataframe thead th {\n",
       "        text-align: right;\n",
       "    }\n",
       "</style>\n",
       "<table border=\"1\" class=\"dataframe\">\n",
       "  <thead>\n",
       "    <tr style=\"text-align: right;\">\n",
       "      <th></th>\n",
       "      <th>PACE_JOB_Number</th>\n",
       "      <th>Primary PACE Job Number</th>\n",
       "      <th>PACE_JOB_NAME</th>\n",
       "      <th>PACE Job Description</th>\n",
       "      <th>PACE Job Status</th>\n",
       "      <th>SEARCH_RING_CODE</th>\n",
       "      <th>SEARCH_RING_NAME</th>\n",
       "      <th>Region</th>\n",
       "      <th>Market</th>\n",
       "      <th>Submarket</th>\n",
       "      <th>...</th>\n",
       "      <th>FCST CL013-2nd Capcon Due/Commencement Notification Sent</th>\n",
       "      <th>ACT CL013-2nd Capcon Due/Commencement Notification Sent</th>\n",
       "      <th>PLAN CL100-Final Civil Acceptance</th>\n",
       "      <th>FCST CL100-Final Civil Acceptance</th>\n",
       "      <th>ACT CL100-Final Civil Acceptance</th>\n",
       "      <th>PLAN CL101-Ready for PTN Closure</th>\n",
       "      <th>FCST CL101-Ready for PTN Closure</th>\n",
       "      <th>ACT CL101-Ready for PTN Closure</th>\n",
       "      <th>VPGM_Region</th>\n",
       "      <th>VPGM_Market</th>\n",
       "    </tr>\n",
       "  </thead>\n",
       "  <tbody>\n",
       "    <tr>\n",
       "      <th>0</th>\n",
       "      <td>MRSFR001213</td>\n",
       "      <td>MRSFR001213</td>\n",
       "      <td>LTE eNodeB San Francisco CCL05626 -BUNDLED - 1P</td>\n",
       "      <td>NaN</td>\n",
       "      <td>Active</td>\n",
       "      <td>NaN</td>\n",
       "      <td>NaN</td>\n",
       "      <td>WEST</td>\n",
       "      <td>NORTHERN CALIFORNIA</td>\n",
       "      <td>SAN FRANCISCO</td>\n",
       "      <td>...</td>\n",
       "      <td>NaN</td>\n",
       "      <td>NaN</td>\n",
       "      <td>8/13/2021</td>\n",
       "      <td>8/13/2021</td>\n",
       "      <td>NaN</td>\n",
       "      <td>9/27/2021</td>\n",
       "      <td>9/27/2021</td>\n",
       "      <td>NaN</td>\n",
       "      <td>WEST</td>\n",
       "      <td>NORTHERN CALIFORNIA</td>\n",
       "    </tr>\n",
       "    <tr>\n",
       "      <th>1</th>\n",
       "      <td>MRSFR001437</td>\n",
       "      <td>MRSFR001437</td>\n",
       "      <td>RSFR NSB  CVU0251 - LAKE KAWEAH; GWS Mkt. Prio...</td>\n",
       "      <td>NaN</td>\n",
       "      <td>Active</td>\n",
       "      <td>CVL00251_SR</td>\n",
       "      <td>LAKE KAWEAH</td>\n",
       "      <td>WEST</td>\n",
       "      <td>NORTHERN CALIFORNIA</td>\n",
       "      <td>SACRAMENTO</td>\n",
       "      <td>...</td>\n",
       "      <td>NaN</td>\n",
       "      <td>NaN</td>\n",
       "      <td>10/22/2021</td>\n",
       "      <td>3/14/2021</td>\n",
       "      <td>NaN</td>\n",
       "      <td>11/6/2021</td>\n",
       "      <td>4/13/2021</td>\n",
       "      <td>NaN</td>\n",
       "      <td>WEST</td>\n",
       "      <td>NORTHERN CALIFORNIA</td>\n",
       "    </tr>\n",
       "    <tr>\n",
       "      <th>2</th>\n",
       "      <td>MRSFR004988</td>\n",
       "      <td>MRSFR004988</td>\n",
       "      <td>Grand Ave  and  Spruce</td>\n",
       "      <td>NaN</td>\n",
       "      <td>Active</td>\n",
       "      <td>CCU1316</td>\n",
       "      <td>GRAND AVE &amp; SPRUCE AVE</td>\n",
       "      <td>WEST</td>\n",
       "      <td>NORTHERN CALIFORNIA</td>\n",
       "      <td>SAN FRANCISCO</td>\n",
       "      <td>...</td>\n",
       "      <td>NaN</td>\n",
       "      <td>NaN</td>\n",
       "      <td>12/18/2020</td>\n",
       "      <td>5/22/2021</td>\n",
       "      <td>NaN</td>\n",
       "      <td>1/6/2021</td>\n",
       "      <td>6/21/2021</td>\n",
       "      <td>NaN</td>\n",
       "      <td>WEST</td>\n",
       "      <td>NORTHERN CALIFORNIA</td>\n",
       "    </tr>\n",
       "    <tr>\n",
       "      <th>3</th>\n",
       "      <td>MRSFR005454</td>\n",
       "      <td>MRSFR005454</td>\n",
       "      <td>HWY 113  HWY 12</td>\n",
       "      <td>NaN</td>\n",
       "      <td>Active</td>\n",
       "      <td>NaN</td>\n",
       "      <td>NaN</td>\n",
       "      <td>WEST</td>\n",
       "      <td>NORTHERN CALIFORNIA</td>\n",
       "      <td>SAN FRANCISCO</td>\n",
       "      <td>...</td>\n",
       "      <td>NaN</td>\n",
       "      <td>NaN</td>\n",
       "      <td>11/26/2020</td>\n",
       "      <td>2/20/2021</td>\n",
       "      <td>NaN</td>\n",
       "      <td>7/8/2021</td>\n",
       "      <td>3/22/2021</td>\n",
       "      <td>NaN</td>\n",
       "      <td>WEST</td>\n",
       "      <td>NORTHERN CALIFORNIA</td>\n",
       "    </tr>\n",
       "    <tr>\n",
       "      <th>4</th>\n",
       "      <td>MRSFR001311</td>\n",
       "      <td>MRSFR001311</td>\n",
       "      <td>RSFR NSB  CCU0317 - SEA VIEW AVENUE</td>\n",
       "      <td>NaN</td>\n",
       "      <td>Active</td>\n",
       "      <td>CCU0317</td>\n",
       "      <td>CCU0317</td>\n",
       "      <td>WEST</td>\n",
       "      <td>NORTHERN CALIFORNIA</td>\n",
       "      <td>SAN FRANCISCO</td>\n",
       "      <td>...</td>\n",
       "      <td>NaN</td>\n",
       "      <td>NaN</td>\n",
       "      <td>6/24/2022</td>\n",
       "      <td>5/24/2023</td>\n",
       "      <td>NaN</td>\n",
       "      <td>3/23/2022</td>\n",
       "      <td>6/23/2023</td>\n",
       "      <td>NaN</td>\n",
       "      <td>WEST</td>\n",
       "      <td>NORTHERN CALIFORNIA</td>\n",
       "    </tr>\n",
       "  </tbody>\n",
       "</table>\n",
       "<p>5 rows × 1200 columns</p>\n",
       "</div>"
      ],
      "text/plain": [
       "  PACE_JOB_Number Primary PACE Job Number  \\\n",
       "0     MRSFR001213             MRSFR001213   \n",
       "1     MRSFR001437             MRSFR001437   \n",
       "2     MRSFR004988             MRSFR004988   \n",
       "3     MRSFR005454             MRSFR005454   \n",
       "4     MRSFR001311             MRSFR001311   \n",
       "\n",
       "                                       PACE_JOB_NAME PACE Job Description  \\\n",
       "0    LTE eNodeB San Francisco CCL05626 -BUNDLED - 1P                  NaN   \n",
       "1  RSFR NSB  CVU0251 - LAKE KAWEAH; GWS Mkt. Prio...                  NaN   \n",
       "2                             Grand Ave  and  Spruce                  NaN   \n",
       "3                                    HWY 113  HWY 12                  NaN   \n",
       "4                RSFR NSB  CCU0317 - SEA VIEW AVENUE                  NaN   \n",
       "\n",
       "  PACE Job Status SEARCH_RING_CODE        SEARCH_RING_NAME Region  \\\n",
       "0          Active              NaN                     NaN   WEST   \n",
       "1          Active      CVL00251_SR             LAKE KAWEAH   WEST   \n",
       "2          Active          CCU1316  GRAND AVE & SPRUCE AVE   WEST   \n",
       "3          Active              NaN                     NaN   WEST   \n",
       "4          Active          CCU0317                 CCU0317   WEST   \n",
       "\n",
       "                Market      Submarket  ...  \\\n",
       "0  NORTHERN CALIFORNIA  SAN FRANCISCO  ...   \n",
       "1  NORTHERN CALIFORNIA     SACRAMENTO  ...   \n",
       "2  NORTHERN CALIFORNIA  SAN FRANCISCO  ...   \n",
       "3  NORTHERN CALIFORNIA  SAN FRANCISCO  ...   \n",
       "4  NORTHERN CALIFORNIA  SAN FRANCISCO  ...   \n",
       "\n",
       "  FCST CL013-2nd Capcon Due/Commencement Notification Sent  \\\n",
       "0                                                NaN         \n",
       "1                                                NaN         \n",
       "2                                                NaN         \n",
       "3                                                NaN         \n",
       "4                                                NaN         \n",
       "\n",
       "  ACT CL013-2nd Capcon Due/Commencement Notification Sent  \\\n",
       "0                                                NaN        \n",
       "1                                                NaN        \n",
       "2                                                NaN        \n",
       "3                                                NaN        \n",
       "4                                                NaN        \n",
       "\n",
       "  PLAN CL100-Final Civil Acceptance FCST CL100-Final Civil Acceptance  \\\n",
       "0                         8/13/2021                         8/13/2021   \n",
       "1                        10/22/2021                         3/14/2021   \n",
       "2                        12/18/2020                         5/22/2021   \n",
       "3                        11/26/2020                         2/20/2021   \n",
       "4                         6/24/2022                         5/24/2023   \n",
       "\n",
       "  ACT CL100-Final Civil Acceptance PLAN CL101-Ready for PTN Closure  \\\n",
       "0                              NaN                        9/27/2021   \n",
       "1                              NaN                        11/6/2021   \n",
       "2                              NaN                         1/6/2021   \n",
       "3                              NaN                         7/8/2021   \n",
       "4                              NaN                        3/23/2022   \n",
       "\n",
       "   FCST CL101-Ready for PTN Closure  ACT CL101-Ready for PTN Closure  \\\n",
       "0                         9/27/2021                              NaN   \n",
       "1                         4/13/2021                              NaN   \n",
       "2                         6/21/2021                              NaN   \n",
       "3                         3/22/2021                              NaN   \n",
       "4                         6/23/2023                              NaN   \n",
       "\n",
       "  VPGM_Region          VPGM_Market  \n",
       "0        WEST  NORTHERN CALIFORNIA  \n",
       "1        WEST  NORTHERN CALIFORNIA  \n",
       "2        WEST  NORTHERN CALIFORNIA  \n",
       "3        WEST  NORTHERN CALIFORNIA  \n",
       "4        WEST  NORTHERN CALIFORNIA  \n",
       "\n",
       "[5 rows x 1200 columns]"
      ]
     },
     "execution_count": 1,
     "metadata": {},
     "output_type": "execute_result"
    }
   ],
   "source": [
    "import pandas as pd\n",
    "df = pd.read_csv('csv/PACE Report - Nor CAL.csv', encoding = \"ISO-8859-1\")\n",
    "df.head()"
   ]
  },
  {
   "cell_type": "code",
   "execution_count": 2,
   "metadata": {},
   "outputs": [
    {
     "data": {
      "text/html": [
       "<div>\n",
       "<style scoped>\n",
       "    .dataframe tbody tr th:only-of-type {\n",
       "        vertical-align: middle;\n",
       "    }\n",
       "\n",
       "    .dataframe tbody tr th {\n",
       "        vertical-align: top;\n",
       "    }\n",
       "\n",
       "    .dataframe thead th {\n",
       "        text-align: right;\n",
       "    }\n",
       "</style>\n",
       "<table border=\"1\" class=\"dataframe\">\n",
       "  <thead>\n",
       "    <tr style=\"text-align: right;\">\n",
       "      <th></th>\n",
       "      <th>USID</th>\n",
       "      <th>LATITUDE</th>\n",
       "      <th>LONGITUDE</th>\n",
       "    </tr>\n",
       "  </thead>\n",
       "  <tbody>\n",
       "    <tr>\n",
       "      <th>0</th>\n",
       "      <td>47128.0</td>\n",
       "      <td>37.792635</td>\n",
       "      <td>-122.469517</td>\n",
       "    </tr>\n",
       "    <tr>\n",
       "      <th>1</th>\n",
       "      <td>273641.0</td>\n",
       "      <td>36.400141</td>\n",
       "      <td>-118.995505</td>\n",
       "    </tr>\n",
       "    <tr>\n",
       "      <th>2</th>\n",
       "      <td>231117.0</td>\n",
       "      <td>37.652048</td>\n",
       "      <td>-122.418433</td>\n",
       "    </tr>\n",
       "    <tr>\n",
       "      <th>3</th>\n",
       "      <td>230837.0</td>\n",
       "      <td>38.189081</td>\n",
       "      <td>-121.815233</td>\n",
       "    </tr>\n",
       "    <tr>\n",
       "      <th>4</th>\n",
       "      <td>198213.0</td>\n",
       "      <td>37.819572</td>\n",
       "      <td>-122.218417</td>\n",
       "    </tr>\n",
       "  </tbody>\n",
       "</table>\n",
       "</div>"
      ],
      "text/plain": [
       "       USID   LATITUDE   LONGITUDE\n",
       "0   47128.0  37.792635 -122.469517\n",
       "1  273641.0  36.400141 -118.995505\n",
       "2  231117.0  37.652048 -122.418433\n",
       "3  230837.0  38.189081 -121.815233\n",
       "4  198213.0  37.819572 -122.218417"
      ]
     },
     "execution_count": 2,
     "metadata": {},
     "output_type": "execute_result"
    }
   ],
   "source": [
    "df = df[['USID', 'LATITUDE', 'LONGITUDE']]\n",
    "df.head()"
   ]
  },
  {
   "cell_type": "code",
   "execution_count": 3,
   "metadata": {},
   "outputs": [
    {
     "data": {
      "text/plain": [
       "19455"
      ]
     },
     "execution_count": 3,
     "metadata": {},
     "output_type": "execute_result"
    }
   ],
   "source": [
    "len(df)"
   ]
  },
  {
   "cell_type": "code",
   "execution_count": 4,
   "metadata": {},
   "outputs": [],
   "source": [
    "#df = df.drop_duplicates(subset=['USID'], keep=False)\n",
    "#len(df)"
   ]
  },
  {
   "cell_type": "code",
   "execution_count": 5,
   "metadata": {},
   "outputs": [
    {
     "data": {
      "text/plain": [
       "'done'"
      ]
     },
     "execution_count": 5,
     "metadata": {},
     "output_type": "execute_result"
    }
   ],
   "source": [
    "df.to_csv('csv/norcal.csv', index=False)\n",
    "'done'"
   ]
  },
  {
   "cell_type": "code",
   "execution_count": 6,
   "metadata": {},
   "outputs": [
    {
     "name": "stderr",
     "output_type": "stream",
     "text": [
      "/Users/evanwappel/.virtualenv/lib/python3.8/site-packages/arcgis/features/_data/geodataset/utils.py:16: FutureWarning: The pandas.datetime class is deprecated and will be removed from pandas in a future version. Import from datetime module instead.\n",
      "  pd.datetime,\n"
     ]
    },
    {
     "name": "stdout",
     "output_type": "stream",
     "text": [
      "Logged in as evan@thecbrgroup.com\n"
     ]
    }
   ],
   "source": [
    "from arcgis.features import FeatureLayerCollection\n",
    "from arcgis.gis import GIS\n",
    "\n",
    "# ArcGIS login\n",
    "gis = GIS('https://www.arcgis.com', 'evan@thecbrgroup.com', 'AnUEh7so')\n",
    "print('Logged in as', gis.properties.user.username)"
   ]
  },
  {
   "cell_type": "code",
   "execution_count": 7,
   "metadata": {},
   "outputs": [
    {
     "name": "stdout",
     "output_type": "stream",
     "text": [
      "Feature Layer has been updated.\n"
     ]
    }
   ],
   "source": [
    "# Overwrite the Feature Layer\n",
    "csv_item = gis.content.get('63f1e4173e9245b28cc453e36c74f2c3')\n",
    "qb_flayer_collection = FeatureLayerCollection.fromitem(csv_item)\n",
    "qb_flayer_collection.manager.overwrite('norcal.csv')\n",
    "print('Feature Layer has been updated.')"
   ]
  }
 ],
 "metadata": {
  "kernelspec": {
   "display_name": "Python 3.8.2 64-bit ('.virtualenv': venv)",
   "language": "python",
   "name": "python38264bitvirtualenvvenv54f34267c9ca452b8fe5f07e0113e491"
  },
  "language_info": {
   "codemirror_mode": {
    "name": "ipython",
    "version": 3
   },
   "file_extension": ".py",
   "mimetype": "text/x-python",
   "name": "python",
   "nbconvert_exporter": "python",
   "pygments_lexer": "ipython3",
   "version": "3.8.3"
  }
 },
 "nbformat": 4,
 "nbformat_minor": 4
}
